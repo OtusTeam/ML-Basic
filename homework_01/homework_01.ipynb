{
 "cells": [
  {
   "cell_type": "markdown",
   "id": "8955a739",
   "metadata": {},
   "source": [
    "# Домашнее задание: Базовые типы данных\n",
    "\n"
   ]
  },
  {
   "cell_type": "markdown",
   "id": "d4e67b86",
   "metadata": {},
   "source": [
    "## Задание 1: Зеркальное отражение цифр\n",
    "\n",
    "Пользователь вводит пятизначное число. Программа должна зеркально отразить три центральные цифры. Первая и последняя остаются на местах.\n",
    "\n",
    "<br>\n",
    "\n",
    "**Примеры:**\n",
    "* `23456 -> 25436`\n",
    "* `30789 -> 38709`"
   ]
  },
  {
   "cell_type": "code",
   "execution_count": 1,
   "id": "5a4d665d",
   "metadata": {},
   "outputs": [
    {
     "name": "stdout",
     "output_type": "stream",
     "text": [
      "('1', '4', '3', '2', '5')\n"
     ]
    }
   ],
   "source": [
    "num = input(\"Введите пятизначное число: \")\n",
    "mirored = num[0],num[3],num[2],num[1],num[4]\n",
    "print(mirored)"
   ]
  },
  {
   "cell_type": "markdown",
   "id": "00b9578b",
   "metadata": {},
   "source": [
    "## Задание 2: Подсчет выходных до отпуска\n",
    "\n",
    "Пользователь вводит сколько дней осталось до ближайшего отпуска. Программа должна вывести количество выходных дней до отпуска, если учесть, что выходные это суббота и воскресенье, сегодня понедельник и праздники мы не учитываем.  \n",
    "\n",
    "<br>\n",
    "\n",
    "**Примеры:**\n",
    "* `4  -> 0`\n",
    "* `6  -> 1`\n",
    "* `14 -> 4`"
   ]
  },
  {
   "cell_type": "code",
   "execution_count": 2,
   "id": "07154103",
   "metadata": {},
   "outputs": [
    {
     "name": "stdout",
     "output_type": "stream",
     "text": [
      "Количество выходных до отпуска: 1\n"
     ]
    }
   ],
   "source": [
    "days = int(input(\"Введите количество дней до отпуска: \"))\n",
    "\n",
    "full_weeks = days // 7\n",
    "remaining_days = days % 7\n",
    "weekends = full_weeks * 2\n",
    "\n",
    "if remaining_days >= 6:\n",
    "    weekends += 1  \n",
    "if remaining_days >= 7:\n",
    "    weekends += 1  \n",
    "\n",
    "print(f\"Количество выходных до отпуска: {weekends}\")"
   ]
  },
  {
   "cell_type": "markdown",
   "id": "cdde282c",
   "metadata": {},
   "source": [
    "## Задание 3: Плитка шоколада\n",
    "\n",
    "Пользователь вводит длину и ширину плитки шоколада, а также размер куска, который хочет отломить. Программа должна вычислить - можно ли совершить подобный разлом или нет, если учесть, что ломать можно только по прямой.\n",
    "\n",
    "<br>\n",
    "\n",
    "**Примеры:**\n",
    "* `3, 4, 6  -> True`\n",
    "* `5, 7, 8  -> False`\n",
    "* `4, 5, 12 -> True`"
   ]
  },
  {
   "cell_type": "code",
   "execution_count": 3,
   "id": "70f3324c",
   "metadata": {},
   "outputs": [
    {
     "name": "stdout",
     "output_type": "stream",
     "text": [
      "true\n"
     ]
    }
   ],
   "source": [
    "length  = int(input(\"Введите длину: \"))\n",
    "width  = int(input(\"Введите ширину: \"))\n",
    "size  = int(input(\"Введите размер куска: \"))\n",
    "\n",
    "if size % length == 0 or size % width == 0:\n",
    "    print(\"true\")\n",
    "else:\n",
    "    print(\"false\")"
   ]
  },
  {
   "cell_type": "markdown",
   "id": "6470efc1",
   "metadata": {},
   "source": [
    "## Задание 4: Римские числа\n",
    "\n",
    "Пользователь вводит целое положительное число, программа должна вернуть строку в виде римского числа.\n",
    "\n",
    "<br>\n",
    "\n",
    "**Примеры:**\n",
    "* `3   -> III`\n",
    "* `15  -> XV`\n",
    "* `234 -> CCXXXIV`"
   ]
  },
  {
   "cell_type": "code",
   "execution_count": 4,
   "id": "8686127c",
   "metadata": {},
   "outputs": [
    {
     "name": "stdout",
     "output_type": "stream",
     "text": [
      "Римская запись: LIV\n"
     ]
    }
   ],
   "source": [
    "def int_to_roman(num):\n",
    "    val = [\n",
    "        (1000, 'M'), (900, 'CM'), (500, 'D'), (400, 'CD'),\n",
    "        (100, 'C'), (90, 'XC'), (50, 'L'), (40, 'XL'),\n",
    "        (10, 'X'), (9, 'IX'), (5, 'V'), (4, 'IV'), (1, 'I')\n",
    "    ]\n",
    "    roman_num = []\n",
    "    for n, r in val:\n",
    "        while num >= n:\n",
    "            roman_num.append(r)\n",
    "            num -= n\n",
    "    return ''.join(roman_num)\n",
    "\n",
    "number = int(input(\"Введите целое положительное число: \"))\n",
    "if number < 1:\n",
    "    print(\"Число должно быть положительным!\")\n",
    "else:\n",
    "    print(f\"Римская запись: {int_to_roman(number)}\")"
   ]
  },
  {
   "cell_type": "markdown",
   "id": "ca6a4c0a",
   "metadata": {},
   "source": [
    "## Задание 5: Проверка на вещественное число\n",
    "\n",
    "Пользователь вводит данные, проверить - являются ли они положительным вещественным числом. Не использовать встроенные функции для проверки, только методы данных и конструкцию IF. (Дополнительное задание, по желанию - проверка на отрицательные вещественные числа)\n",
    "\n",
    "<br>\n",
    "\n",
    "**Примеры:**\n",
    "* `5.6  -> True`\n",
    "* `.78  -> True`\n",
    "* `.67. -> False`\n",
    "* `5    -> True`"
   ]
  },
  {
   "cell_type": "code",
   "execution_count": 5,
   "id": "74e39179",
   "metadata": {},
   "outputs": [
    {
     "name": "stdout",
     "output_type": "stream",
     "text": [
      "Да, это вещественное число\n"
     ]
    }
   ],
   "source": [
    "s = input(\"Введите число: \")\n",
    "\n",
    "is_valid = True\n",
    "dot_count = 0\n",
    "sign_count = 0\n",
    "\n",
    "if not s:  \n",
    "    is_valid = False\n",
    "else:\n",
    "    for i, char in enumerate(s):\n",
    "        if char == '.':\n",
    "            dot_count += 1\n",
    "            if dot_count > 1:\n",
    "                is_valid = False\n",
    "                break\n",
    "        elif char in '+-':\n",
    "            sign_count += 1\n",
    "            if i != 0 or sign_count > 1:  \n",
    "                is_valid = False\n",
    "                break\n",
    "        elif not char.isdigit():\n",
    "            is_valid = False\n",
    "            break\n",
    "\n",
    "    if is_valid:\n",
    "        if dot_count == 1 and len(s) == 1:  \n",
    "            is_valid = False\n",
    "        elif sign_count == 1 and len(s) == 1:  \n",
    "            is_valid = False\n",
    "        elif s[0] in '+-.' and len(s) == 2 and not s[1].isdigit():  \n",
    "            is_valid = False\n",
    "        elif s[-1] == '.' and len(s) > 1 and not s[-2].isdigit():  \n",
    "            is_valid = False\n",
    "\n",
    "print(\"Да, это вещественное число\" if is_valid else \"Нет, это не вещественное число\")"
   ]
  }
 ],
 "metadata": {
  "kernelspec": {
   "display_name": "Python 3",
   "language": "python",
   "name": "python3"
  },
  "language_info": {
   "codemirror_mode": {
    "name": "ipython",
    "version": 3
   },
   "file_extension": ".py",
   "mimetype": "text/x-python",
   "name": "python",
   "nbconvert_exporter": "python",
   "pygments_lexer": "ipython3",
   "version": "3.13.0"
  }
 },
 "nbformat": 4,
 "nbformat_minor": 5
}
